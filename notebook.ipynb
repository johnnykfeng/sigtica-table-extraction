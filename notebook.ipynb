{
 "cells": [
  {
   "cell_type": "code",
   "execution_count": 11,
   "metadata": {},
   "outputs": [
    {
     "name": "stdout",
     "output_type": "stream",
     "text": [
      "Help on method run_extraction in module TableExtraction:\n",
      "\n",
      "run_extraction(image_path: str, cell_img_dir, TD_THRESHOLD=0.6, TSR_THRESHOLD=0.8, use_pytess=False, print_progress=False, first_row_header=False, autosavecsv=False, show_plots=True, tsr_fontsize=10, delta_xmin=20, delta_ymin=20, delta_xmax=20, delta_ymax=20) method of TableExtraction.TableExtractor instance\n",
      "    Runs the complete table extraction process of generating pandas dataframes from raw pdf-page images\n",
      "    \n",
      "    Args:\n",
      "        image_path (str): file path for input image\n",
      "        cell_img_dir (_type_): directory path for storing cell images\n",
      "        TD_THRESHOLD (float, optional): Defaults to 0.6.\n",
      "        TSR_THRESHOLD (float, optional): Defaults to 0.8.\n",
      "        use_pytess (bool, optional): set True if you want to use pytess Defaults to False.\n",
      "        print_progress (bool, optional): Prints process for rows and cols. Defaults to False.\n",
      "        first_row_header (bool, optional): Dedicate first row to header. Defaults to False.\n",
      "        tsr_fontsize (int, optional): Fontsize for TSR labels. Defaults to 10.\n",
      "        autosavecsv: Auto save df to csv. Defaults to False.\n",
      "        show_plots: Plot results of TD and TSR. Recommend to be False when running multiple images. Defaults to True. \n",
      "        delta_xmin (int, optional): Pads xmin for cropping after TD. Defaults to 20.\n",
      "        delta_ymin (int, optional): Pads ymin for cropping after TD. Defaults to 20.\n",
      "        delta_xmax (int, optional): Pads xmax for cropping after TD. Defaults to 20.\n",
      "        delta_ymax (int, optional): Pads ymax for cropping after TD. Defaults to 20.\n",
      "    \n",
      "    Returns:\n",
      "        None: when no table detected in image\n",
      "        df_list: list of extracted dataframes\n",
      "\n",
      "None\n"
     ]
    }
   ],
   "source": [
    "from TableExtraction import *\n",
    "te = TableExtractor()\n",
    "print(help(te.run_extraction))"
   ]
  },
  {
   "cell_type": "code",
   "execution_count": 12,
   "metadata": {},
   "outputs": [
    {
     "name": "stdout",
     "output_type": "stream",
     "text": [
      "Number of image files in directory: 5\n"
     ]
    }
   ],
   "source": [
    "import os\n",
    "# grab file names from samples directory\n",
    "samples_directory = r'.\\samples'\n",
    "file_list = []\n",
    "filenames = []\n",
    "for filename in os.listdir(samples_directory):\n",
    "    filenames.append(filename)\n",
    "    f = os.path.join(samples_directory, filename)\n",
    "    file_list.append(f)\n",
    "\n",
    "print('Number of image files in directory: {}'.format(len(file_list)))"
   ]
  },
  {
   "cell_type": "code",
   "execution_count": 13,
   "metadata": {},
   "outputs": [
    {
     "name": "stdout",
     "output_type": "stream",
     "text": [
      " \n",
      "Filename: easy_table_raw\n",
      "File path: .\\samples\\easy_table_raw.png\n"
     ]
    },
    {
     "name": "stderr",
     "output_type": "stream",
     "text": [
      "C:\\Users\\Feng\\AppData\\Local\\Packages\\PythonSoftwareFoundation.Python.3.9_qbz5n2kfra8p0\\LocalCache\\local-packages\\Python39\\site-packages\\transformers\\models\\detr\\feature_extraction_detr.py:28: FutureWarning: The class DetrFeatureExtractor is deprecated and will be removed in version 5 of Transformers. Please use DetrImageProcessor instead.\n",
      "  warnings.warn(\n",
      "C:\\Users\\Feng\\AppData\\Local\\Packages\\PythonSoftwareFoundation.Python.3.9_qbz5n2kfra8p0\\LocalCache\\local-packages\\Python39\\site-packages\\transformers\\models\\detr\\image_processing_detr.py:779: FutureWarning: The `max_size` parameter is deprecated and will be removed in v4.26. Please specify in `size['longest_edge'] instead`.\n",
      "  warnings.warn(\n",
      "C:\\Users\\Feng\\AppData\\Local\\Packages\\PythonSoftwareFoundation.Python.3.9_qbz5n2kfra8p0\\LocalCache\\local-packages\\Python39\\site-packages\\transformers\\models\\detr\\image_processing_detr.py:1265: FutureWarning: `post_process` is deprecated and will be removed in v5 of Transformers, please use `post_process_object_detection`\n",
      "  warnings.warn(\n"
     ]
    },
    {
     "name": "stdout",
     "output_type": "stream",
     "text": [
      "Number of tables in input image: 1\n",
      "Directory for storing cell images: .\\cell_images\n",
      "13 rows\n",
      "8 columns\n",
      "Total 104 cells.\n",
      "Start Google Vision OCR process...\n",
      "-- Google OCR Results --\n",
      "                0               1         2       3       4       5       6  \\\n",
      "0   Non-Canonical         DETR-NC  | Simple  0.8678  0.9872  0.9859  0.9821   \n",
      "1                                   Complex  0.5360  0.9600  0.9618  0.9444   \n",
      "2                                       All  0.7336  0.9762  0.9761  0.9668   \n",
      "3       Canonical       | DETR-NC    Simple  0.9349  0.9933  0.9920  0.9900   \n",
      "4                                   Complex  0.2712  0.9257  0.9290  0.9044   \n",
      "5                                       All  0.5851  0.9576  0.9588  0.9449   \n",
      "6                  | Faster R-CNN    Simple  0.0867  0.8682  0.8571  0.6869   \n",
      "7                                   Complex  0.1193  0.8556  0.8507  0.7518   \n",
      "8                                       All  0.1039  0.8616  0.8538  0.7211   \n",
      "9                          | DETR    Simple  0.9468  0.9949  0.9938  0.9922   \n",
      "10                                  Complex  0.6944  0.9752  0.9763  0.9654   \n",
      "11                                      All  0.8138  0.9845  0.9846  0.9781   \n",
      "\n",
      "         7  \n",
      "0   0.9801  \n",
      "1   0.9505  \n",
      "2   0.9681  \n",
      "3   0.9865  \n",
      "4   0.9162  \n",
      "5   0.9494  \n",
      "6   0.8024  \n",
      "7   0.7734  \n",
      "8   0.7871  \n",
      "9   0.9893  \n",
      "10  0.9667  \n",
      "11  0.9774  \n",
      "Google OCR process took 32.71 seconds\n",
      "++-- END TABLE EXTRACTION --++\n",
      "Number of tables in image: 1\n",
      " \n",
      "Filename: many_tables_hard\n",
      "File path: .\\samples\\many_tables_hard.jpg\n"
     ]
    },
    {
     "name": "stderr",
     "output_type": "stream",
     "text": [
      "C:\\Users\\Feng\\AppData\\Local\\Packages\\PythonSoftwareFoundation.Python.3.9_qbz5n2kfra8p0\\LocalCache\\local-packages\\Python39\\site-packages\\transformers\\models\\detr\\feature_extraction_detr.py:28: FutureWarning: The class DetrFeatureExtractor is deprecated and will be removed in version 5 of Transformers. Please use DetrImageProcessor instead.\n",
      "  warnings.warn(\n",
      "C:\\Users\\Feng\\AppData\\Local\\Packages\\PythonSoftwareFoundation.Python.3.9_qbz5n2kfra8p0\\LocalCache\\local-packages\\Python39\\site-packages\\transformers\\models\\detr\\image_processing_detr.py:779: FutureWarning: The `max_size` parameter is deprecated and will be removed in v4.26. Please specify in `size['longest_edge'] instead`.\n",
      "  warnings.warn(\n",
      "C:\\Users\\Feng\\AppData\\Local\\Packages\\PythonSoftwareFoundation.Python.3.9_qbz5n2kfra8p0\\LocalCache\\local-packages\\Python39\\site-packages\\transformers\\models\\detr\\image_processing_detr.py:1265: FutureWarning: `post_process` is deprecated and will be removed in v5 of Transformers, please use `post_process_object_detection`\n",
      "  warnings.warn(\n"
     ]
    },
    {
     "name": "stdout",
     "output_type": "stream",
     "text": [
      "No table found in the pdf-page image\n",
      " \n",
      "Filename: no_table\n",
      "File path: .\\samples\\no_table.jpg\n",
      "No table found in the pdf-page image\n",
      " \n",
      "Filename: table3x3\n",
      "File path: .\\samples\\table3x3.jpg\n",
      "Number of tables in input image: 1\n",
      "Directory for storing cell images: .\\cell_images\n",
      "4 rows\n",
      "3 columns\n",
      "Total 12 cells.\n",
      "Start Google Vision OCR process...\n",
      "-- Google OCR Results --\n",
      "                        0                 1                                  2\n",
      "0   1 re année\\n2009/2010  24 décembre 2009  1er janvier 2010\\n(inclusivement)\n",
      "1  2ième année\\n2010/2011  24 décembre 2010    3 janvier 2011\\n(inclusivement)\n",
      "2  3ième année\\n2011/2012  24 décembre 2011    3 janvier 2012\\n(inclusivement)\n",
      "Google OCR process took 4.06 seconds\n",
      "++-- END TABLE EXTRACTION --++\n",
      "Number of tables in image: 1\n",
      " \n",
      "Filename: two_borderless_tables\n",
      "File path: .\\samples\\two_borderless_tables.jpg\n"
     ]
    },
    {
     "name": "stderr",
     "output_type": "stream",
     "text": [
      "C:\\Users\\Feng\\AppData\\Local\\Packages\\PythonSoftwareFoundation.Python.3.9_qbz5n2kfra8p0\\LocalCache\\local-packages\\Python39\\site-packages\\transformers\\models\\detr\\feature_extraction_detr.py:28: FutureWarning: The class DetrFeatureExtractor is deprecated and will be removed in version 5 of Transformers. Please use DetrImageProcessor instead.\n",
      "  warnings.warn(\n",
      "C:\\Users\\Feng\\AppData\\Local\\Packages\\PythonSoftwareFoundation.Python.3.9_qbz5n2kfra8p0\\LocalCache\\local-packages\\Python39\\site-packages\\transformers\\models\\detr\\image_processing_detr.py:779: FutureWarning: The `max_size` parameter is deprecated and will be removed in v4.26. Please specify in `size['longest_edge'] instead`.\n",
      "  warnings.warn(\n",
      "C:\\Users\\Feng\\AppData\\Local\\Packages\\PythonSoftwareFoundation.Python.3.9_qbz5n2kfra8p0\\LocalCache\\local-packages\\Python39\\site-packages\\transformers\\models\\detr\\image_processing_detr.py:1265: FutureWarning: `post_process` is deprecated and will be removed in v5 of Transformers, please use `post_process_object_detection`\n",
      "  warnings.warn(\n"
     ]
    },
    {
     "name": "stdout",
     "output_type": "stream",
     "text": [
      "Number of tables in input image: 1\n",
      "Directory for storing cell images: .\\cell_images\n",
      "6 rows\n",
      "6 columns\n",
      "Total 36 cells.\n",
      "Start Google Vision OCR process...\n",
      "-- Google OCR Results --\n",
      "              0           1                       2           3  \\\n",
      "0                    CS1001                  CStone   Phase III   \n",
      "1  Atezolizumab  Tecentriq\"                   Roche   Phase III   \n",
      "2      Avelumab    Bavencio    Merck KGaA\\n& Pfizer   Phase III   \n",
      "3                     KN035                Alphamab   Phase III   \n",
      "4                   ZKAB001  Zhaoke\\nPharmaceutical  Phase I/II   \n",
      "\n",
      "                                          4           5  \n",
      "0  NSCLC, NKTL,\\nHCC, CHL,\\nGastric Cancer.    2017/7/2  \n",
      "1      HNSCC, HCC.\\nNSCLC, TNBC.\\nUCC, SCLC  2015/10/15  \n",
      "2                                     HNSCC   2016/7/11  \n",
      "3                BTCA, Gastric\\nCancer, CRC   2016/7/11  \n",
      "4                         Osteosarcoma, URR   2018/1/17  \n",
      "Google OCR process took 11.48 seconds\n",
      "++-- END TABLE EXTRACTION --++\n",
      "Number of tables in image: 1\n"
     ]
    }
   ],
   "source": [
    "te = TableExtractor()\n",
    "# print(help(te.run_extraction))\n",
    "\n",
    "# run table extraction on every file in .\\samples\n",
    "for filename, file_path in zip(filenames, file_list):\n",
    "    fname = filename.split('.',1)[0]\n",
    "    print(' ')\n",
    "    print('Filename: {}'.format(fname))\n",
    "    print('File path: {}'.format(file_path))\n",
    "     \n",
    "    cell_img_dir = r\".\\cell_images\"\n",
    "    df_list = te.run_extraction(file_path, cell_img_dir = cell_img_dir, TD_THRESHOLD=0.95, TSR_THRESHOLD=0.8, show_plots=False)\n",
    "    \n",
    "    if (df_list is not None):\n",
    "        print('Number of tables in image: {}'.format(len(df_list)))\n",
    "        for df in df_list:\n",
    "            save_dir = str(fname)+'.csv'\n",
    "            df.to_csv(save_dir, index=False, header=False)"
   ]
  }
 ],
 "metadata": {
  "kernelspec": {
   "display_name": "Python 3",
   "language": "python",
   "name": "python3"
  },
  "language_info": {
   "codemirror_mode": {
    "name": "ipython",
    "version": 3
   },
   "file_extension": ".py",
   "mimetype": "text/x-python",
   "name": "python",
   "nbconvert_exporter": "python",
   "pygments_lexer": "ipython3",
   "version": "3.9.13"
  },
  "orig_nbformat": 4
 },
 "nbformat": 4,
 "nbformat_minor": 2
}
